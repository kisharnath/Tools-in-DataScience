{
  "nbformat": 4,
  "nbformat_minor": 0,
  "metadata": {
    "colab": {
      "provenance": [],
      "toc_visible": true,
      "authorship_tag": "ABX9TyPXWKXZpxiUf2RB7SaULRr4",
      "include_colab_link": true
    },
    "kernelspec": {
      "name": "python3",
      "display_name": "Python 3"
    },
    "language_info": {
      "name": "python"
    }
  },
  "cells": [
    {
      "cell_type": "markdown",
      "metadata": {
        "id": "view-in-github",
        "colab_type": "text"
      },
      "source": [
        "<a href=\"https://colab.research.google.com/github/kisharnath/Tools-in-DataScience/blob/main/Week2_ipynb2.ipynb\" target=\"_parent\"><img src=\"https://colab.research.google.com/assets/colab-badge.svg\" alt=\"Open In Colab\"/></a>"
      ]
    },
    {
      "cell_type": "markdown",
      "source": [
        "**Week 2**"
      ],
      "metadata": {
        "id": "L6nJk1eupyyA"
      }
    },
    {
      "cell_type": "code",
      "source": [
        "import json\n",
        "from urllib.parse import urlencode\n",
        "\n",
        "import requests #to get the website\n",
        "from bs4 import BeautifulSoup # to parse the website\n",
        "\n",
        "import pandas as pd\n",
        "import re\n",
        "\n",
        "from datetime  import datetime\n",
        "\n"
      ],
      "metadata": {
        "id": "5J5ORJyFp4QF"
      },
      "execution_count": 39,
      "outputs": []
    },
    {
      "cell_type": "code",
      "source": [
        "url = 'https://www.bbc.com/weather/1261186' #North Gauhati\n",
        "response = requests.get(url)\n"
      ],
      "metadata": {
        "id": "bOb7HCwssEaK"
      },
      "execution_count": 42,
      "outputs": []
    },
    {
      "cell_type": "code",
      "source": [
        "soup = BeautifulSoup(response.content , 'html.parser')\n",
        "soup.html"
      ],
      "metadata": {
        "id": "vQPuyh5ysdgU"
      },
      "execution_count": null,
      "outputs": []
    },
    {
      "cell_type": "markdown",
      "source": [],
      "metadata": {
        "id": "F6WB59Jv0mZz"
      }
    },
    {
      "cell_type": "code",
      "source": [
        "daily_high_values = soup.find_all('span',attrs={'class':'wr-day-temperature__high-value'})\n",
        "daily_low_values = soup.find_all('span',attrs={'class':'wr-day-temperature__low-value'})\n",
        "daily_low_values"
      ],
      "metadata": {
        "id": "U5cu_6kjs07x"
      },
      "execution_count": null,
      "outputs": []
    },
    {
      "cell_type": "code",
      "source": [
        "# find the summary text\n",
        "summary = soup.find('div' , attrs={'class':'wr-day-summary'})\n",
        "print(summary.p)\n",
        "print(soup.find('div',attrs= {'id':'orbit-header'}))"
      ],
      "metadata": {
        "id": "-jfb9A3Au7W5"
      },
      "execution_count": null,
      "outputs": []
    },
    {
      "cell_type": "code",
      "source": [
        "# get the temperature only\n",
        "print(daily_high_values[0].text.strip())"
      ],
      "metadata": {
        "colab": {
          "base_uri": "https://localhost:8080/"
        },
        "id": "FbF8-1_hvb8b",
        "outputId": "f3937dec-013f-4960-ac97-1f4877b5af2d"
      },
      "execution_count": 17,
      "outputs": [
        {
          "output_type": "stream",
          "name": "stdout",
          "text": [
            "24° 75°\n"
          ]
        }
      ]
    },
    {
      "cell_type": "code",
      "source": [
        "# daily high value list\n",
        "daily_high_value_list = [ daily_high_values[i].text.strip().split()[0] for i in range(len(daily_high_values))]\n",
        "daily_high_value_list"
      ],
      "metadata": {
        "colab": {
          "base_uri": "https://localhost:8080/"
        },
        "id": "8mua-CXEv30v",
        "outputId": "93690d7b-3599-42fd-863d-83c0fdeb1b67"
      },
      "execution_count": 19,
      "outputs": [
        {
          "output_type": "execute_result",
          "data": {
            "text/plain": [
              "['24°',\n",
              " '22°',\n",
              " '23°',\n",
              " '24°',\n",
              " '24°',\n",
              " '24°',\n",
              " '26°',\n",
              " '26°',\n",
              " '27°',\n",
              " '27°',\n",
              " '27°',\n",
              " '28°',\n",
              " '28°',\n",
              " '27°']"
            ]
          },
          "metadata": {},
          "execution_count": 19
        }
      ]
    },
    {
      "cell_type": "markdown",
      "source": [
        "# **Wikipedia**\n",
        "*To see more functions you can refer to this link*\n",
        "[Wikipedia Github link](https://github.com/goldsmith/Wikipedia)"
      ],
      "metadata": {
        "id": "69O4Ps4d0n2S"
      }
    },
    {
      "cell_type": "code",
      "source": [
        "!pip install wikipedia\n",
        "import wikipedia as wk"
      ],
      "metadata": {
        "id": "3PfPfR9i0szR"
      },
      "execution_count": null,
      "outputs": []
    },
    {
      "cell_type": "code",
      "source": [
        "print(len(wk.search('Wheaton')))"
      ],
      "metadata": {
        "colab": {
          "base_uri": "https://localhost:8080/"
        },
        "id": "Lq7c2tfK09DK",
        "outputId": "ff0e794e-bc35-424e-f9e1-0912f69b9ef8"
      },
      "execution_count": 95,
      "outputs": [
        {
          "output_type": "stream",
          "name": "stdout",
          "text": [
            "10\n"
          ]
        }
      ]
    },
    {
      "cell_type": "code",
      "source": [
        "pages = wk.page(\"England\")\n"
      ],
      "metadata": {
        "id": "-o7QH3Hs09I9"
      },
      "execution_count": null,
      "outputs": []
    },
    {
      "cell_type": "markdown",
      "source": [
        "# Nominatim\n"
      ],
      "metadata": {
        "id": "G6j6twClC6Wh"
      }
    },
    {
      "cell_type": "code",
      "source": [
        "from geopy.geocoders import Nominatim\n",
        "geolocator = Nominatim(user_agent=\"bahalpur\")\n",
        "location = geolocator.geocode(\"France\")\n",
        "print(location.longitude )"
      ],
      "metadata": {
        "colab": {
          "base_uri": "https://localhost:8080/"
        },
        "id": "q8LENUHHC9_Y",
        "outputId": "5bdc4153-35ac-4840-86b3-cc3017c7bc87"
      },
      "execution_count": 101,
      "outputs": [
        {
          "output_type": "stream",
          "name": "stdout",
          "text": [
            "1.8883335\n"
          ]
        }
      ]
    }
  ]
}