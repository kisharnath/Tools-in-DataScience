{
  "nbformat": 4,
  "nbformat_minor": 0,
  "metadata": {
    "colab": {
      "provenance": [],
      "authorship_tag": "ABX9TyNdRne69WpWBxv75kRYKnbe",
      "include_colab_link": true
    },
    "kernelspec": {
      "name": "python3",
      "display_name": "Python 3"
    },
    "language_info": {
      "name": "python"
    }
  },
  "cells": [
    {
      "cell_type": "markdown",
      "metadata": {
        "id": "view-in-github",
        "colab_type": "text"
      },
      "source": [
        "<a href=\"https://colab.research.google.com/github/kisharnath/Tools-in-DataScience/blob/main/TDS_Week6.ipynb\" target=\"_parent\"><img src=\"https://colab.research.google.com/assets/colab-badge.svg\" alt=\"Open In Colab\"/></a>"
      ]
    },
    {
      "cell_type": "code",
      "execution_count": 1,
      "metadata": {
        "colab": {
          "base_uri": "https://localhost:8080/"
        },
        "id": "oS8t0mm0auA2",
        "outputId": "4b5ebd06-7948-4454-f861-259c263e184d"
      },
      "outputs": [
        {
          "output_type": "stream",
          "name": "stdout",
          "text": [
            "Requirement already satisfied: TextBlob in /usr/local/lib/python3.10/dist-packages (0.17.1)\n",
            "Requirement already satisfied: nltk>=3.1 in /usr/local/lib/python3.10/dist-packages (from TextBlob) (3.8.1)\n",
            "Requirement already satisfied: click in /usr/local/lib/python3.10/dist-packages (from nltk>=3.1->TextBlob) (8.1.7)\n",
            "Requirement already satisfied: joblib in /usr/local/lib/python3.10/dist-packages (from nltk>=3.1->TextBlob) (1.3.2)\n",
            "Requirement already satisfied: regex>=2021.8.3 in /usr/local/lib/python3.10/dist-packages (from nltk>=3.1->TextBlob) (2023.12.25)\n",
            "Requirement already satisfied: tqdm in /usr/local/lib/python3.10/dist-packages (from nltk>=3.1->TextBlob) (4.66.2)\n"
          ]
        }
      ],
      "source": [
        "!pip install TextBlob"
      ]
    },
    {
      "cell_type": "markdown",
      "source": [
        "*Question 3*"
      ],
      "metadata": {
        "id": "-D_0p2YybeVp"
      }
    },
    {
      "cell_type": "code",
      "source": [
        "from textblob import TextBlob\n",
        "\n",
        "text = \"Car not happy, big big dent in boot! Hoping theyre not going to write it off, crossing fingers and waiting\"\n",
        "blob = TextBlob(text)\n",
        "sentiment_score = blob.sentiment.subjectivity\n",
        "\n",
        "sentiment_score"
      ],
      "metadata": {
        "colab": {
          "base_uri": "https://localhost:8080/"
        },
        "id": "HxD1naqsavNZ",
        "outputId": "c3428681-7096-43e9-b8b7-fb9f78513924"
      },
      "execution_count": 6,
      "outputs": [
        {
          "output_type": "execute_result",
          "data": {
            "text/plain": [
              "1.0"
            ]
          },
          "metadata": {},
          "execution_count": 6
        }
      ]
    },
    {
      "cell_type": "markdown",
      "source": [
        "*Question 4*"
      ],
      "metadata": {
        "id": "uKv5ZwZpbwEh"
      }
    },
    {
      "cell_type": "code",
      "source": [
        "text = \"Car not happy, big big dent in boot! Hoping theyre not going to write it off, crossing fingers and waiting\"\n",
        "blob = TextBlob(text)\n",
        "sentiment_score_2 = blob.sentiment.polarity\n",
        "\n",
        "sentiment_score_2"
      ],
      "metadata": {
        "colab": {
          "base_uri": "https://localhost:8080/"
        },
        "id": "2t1vRzWsblfG",
        "outputId": "e6dc554e-6e14-49ac-9709-43e3e1c7f172"
      },
      "execution_count": 7,
      "outputs": [
        {
          "output_type": "execute_result",
          "data": {
            "text/plain": [
              "-0.13333333333333333"
            ]
          },
          "metadata": {},
          "execution_count": 7
        }
      ]
    },
    {
      "cell_type": "markdown",
      "source": [
        "*Question 5*"
      ],
      "metadata": {
        "id": "ZUf76-Q0b5IX"
      }
    },
    {
      "cell_type": "code",
      "source": [
        "text = \"good time Rocking out @ open mic, thanks 4 all the love n support. Now working on Business plan presentation. No CG again 2nite\"\n",
        "blob = TextBlob(text)\n",
        "sentiment_score = blob.sentiment.polarity\n",
        "\n",
        "if sentiment_score > 0:\n",
        "    print(\"Positive sentiment\")\n",
        "elif sentiment_score < 0:\n",
        "    print(\"Negative sentiment\")\n",
        "else:\n",
        "    print(\"Neutral sentiment\")"
      ],
      "metadata": {
        "colab": {
          "base_uri": "https://localhost:8080/"
        },
        "id": "EJYvnYPPb4Ip",
        "outputId": "ad773f5f-3741-431e-fca7-75f6dda1c73a"
      },
      "execution_count": 8,
      "outputs": [
        {
          "output_type": "stream",
          "name": "stdout",
          "text": [
            "Positive sentiment\n"
          ]
        }
      ]
    }
  ]
}